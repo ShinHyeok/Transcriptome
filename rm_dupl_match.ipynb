{
 "cells": [
  {
   "cell_type": "code",
   "execution_count": 6,
   "metadata": {
    "collapsed": false
   },
   "outputs": [],
   "source": [
    "import os\n",
    "import sys\n",
    "import re\n",
    "import gzip\n",
    "\n",
    "filename_tbl = 'rm_noname.txt' #sys.argv[1]\n",
    "\n",
    "f_dict1 = {}\n",
    "tid = \"\"\n",
    "gid = \"\"\n",
    "percent = 0.0\n",
    "previous_line = 'a b 0'\n",
    "f_tblw = open('%s_rm_duplication'%filename_tbl,'w')\n",
    "\n",
    "with open(filename_tbl,\"r\") as f:\n",
    "    for line in f:\n",
    "        tid1 = line.split()[0]\n",
    "        gid1 = line.split()[1]\n",
    "        per = float(line.split()[2][:-1])\n",
    "        if tid == tid1 and gid == gid1:\n",
    "            tid = tid1\n",
    "            gid = gid1\n",
    "            if (not per < percent):\n",
    "                percent = per\n",
    "        else:\n",
    "            tid = tid1\n",
    "            gid = gid1\n",
    "            percent = 0.\n",
    "            f_tblw.write(line)\n",
    "f_tblw.close()"
   ]
  },
  {
   "cell_type": "code",
   "execution_count": null,
   "metadata": {
    "collapsed": true
   },
   "outputs": [],
   "source": []
  }
 ],
 "metadata": {
  "kernelspec": {
   "display_name": "Python 2",
   "language": "python",
   "name": "python2"
  },
  "language_info": {
   "codemirror_mode": {
    "name": "ipython",
    "version": 2
   },
   "file_extension": ".py",
   "mimetype": "text/x-python",
   "name": "python",
   "nbconvert_exporter": "python",
   "pygments_lexer": "ipython2",
   "version": "2.7.12"
  }
 },
 "nbformat": 4,
 "nbformat_minor": 2
}
