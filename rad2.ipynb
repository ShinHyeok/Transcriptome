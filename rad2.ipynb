{
 "cells": [
  {
   "cell_type": "code",
   "execution_count": 1,
   "metadata": {
    "collapsed": false
   },
   "outputs": [
    {
     "ename": "IOError",
     "evalue": "[Errno 22] invalid mode ('r') or filename: ''",
     "output_type": "error",
     "traceback": [
      "\u001b[0;31m---------------------------------------------------------------------------\u001b[0m",
      "\u001b[0;31mIOError\u001b[0m                                   Traceback (most recent call last)",
      "\u001b[0;32m<ipython-input-1-1ab8a1d1472c>\u001b[0m in \u001b[0;36m<module>\u001b[0;34m()\u001b[0m\n\u001b[1;32m      1\u001b[0m \u001b[1;32mimport\u001b[0m \u001b[0mre\u001b[0m\u001b[1;33m\u001b[0m\u001b[0m\n\u001b[1;32m      2\u001b[0m \u001b[1;33m\u001b[0m\u001b[0m\n\u001b[0;32m----> 3\u001b[0;31m \u001b[0mf_enz\u001b[0m\u001b[1;33m=\u001b[0m \u001b[0mopen\u001b[0m\u001b[1;33m(\u001b[0m\u001b[1;34m''\u001b[0m\u001b[1;33m,\u001b[0m\u001b[1;34m'r'\u001b[0m\u001b[1;33m)\u001b[0m\u001b[1;33m\u001b[0m\u001b[0m\n\u001b[0m\u001b[1;32m      4\u001b[0m \u001b[1;33m\u001b[0m\u001b[0m\n\u001b[1;32m      5\u001b[0m \u001b[0menzyme\u001b[0m \u001b[1;33m=\u001b[0m \u001b[1;33m{\u001b[0m\u001b[1;33m}\u001b[0m\u001b[1;33m\u001b[0m\u001b[0m\n",
      "\u001b[0;31mIOError\u001b[0m: [Errno 22] invalid mode ('r') or filename: ''"
     ]
    }
   ],
   "source": [
    "import re\n",
    "import matplotlib.pyplot as plt \n",
    "\n",
    "f_enz= open('restriction.txt','r')\n",
    "\n",
    "enzyme = {}\n",
    "\n",
    "for line in f_enz:\n",
    "    if len(line.strip())<2:\n",
    "        continue\n",
    "    if not line.startswith('('):\n",
    "        tmp_name = line.strip()\n",
    "        enzyme[tmp_name] = ''\n",
    "        tmp_cut = []\n",
    "    else:\n",
    "        tmp_enz = line.strip()\n",
    "        tmp_cut.append(tmp_enz[1:-1])\n",
    "        \n",
    "        enzyme[tmp_name] = tmp_cut\n",
    "        \n",
    "f_genome = open('','r')\n",
    "\n",
    "genome = ''\n",
    "for line in f_genome:\n",
    "    if line.startswith('>'):\n",
    "        continue\n",
    "    else:\n",
    "        genome += line.strip()\n",
    "enz_list = enzyme.keys()\n",
    "\n",
    "for res_1 in enz_list:\n",
    "    res1 = enzyme[res_1]\n",
    "    rest1 = res1[:res1.find('/')]+res1[res1.find('/')+1:]\n",
    "    cut1_genome = re.sub(r'%s'%rest1,r'%s'%res1,genome.upper())\n",
    "    for res_2 in enz_list:\n",
    "        if res_1 == res_2:\n",
    "            break\n",
    "        res2 = enzyme[res_2]\n",
    "        rest2 = res2[:res2.find('/')]+res2[res2.find('/')+1:]\n",
    "        seq_len = []\n",
    "        cut2_genome = re.sub(r'%s'%rest1,r'%s'%res1,cut2_genome)\n",
    "        seq_tmp = cut_genome.split('/')\n",
    "        for tmp in seq_tmp:\n",
    "            seq_len.append(len(tmp))\n",
    "        scale = [x*10 for x in range(max(seq_len)/10+1)]\n",
    "        plt.hist(seq_len, scale, rwidth=0.8)\n",
    "        plt.title(res1)\n",
    "        plt.show()\n",
    "        plt.close()\n",
    "\n",
    "                \n",
    "        "
   ]
  },
  {
   "cell_type": "code",
   "execution_count": 15,
   "metadata": {
    "collapsed": false
   },
   "outputs": [
    {
     "name": "stdout",
     "output_type": "stream",
     "text": [
      "213a213a21a32\n",
      "['2', '3a2', '3a/2', 'a32']\n"
     ]
    },
    {
     "ename": "AttributeError",
     "evalue": "'str' object has no attribute 'q'",
     "output_type": "error",
     "traceback": [
      "\u001b[0;31m---------------------------------------------------------------------------\u001b[0m",
      "\u001b[0;31mAttributeError\u001b[0m                            Traceback (most recent call last)",
      "\u001b[0;32m<ipython-input-15-8b16d5891e5b>\u001b[0m in \u001b[0;36m<module>\u001b[0;34m()\u001b[0m\n\u001b[1;32m      6\u001b[0m \u001b[0mlist2\u001b[0m \u001b[1;33m=\u001b[0m \u001b[1;33m[\u001b[0m\u001b[1;33m]\u001b[0m\u001b[1;33m\u001b[0m\u001b[0m\n\u001b[1;32m      7\u001b[0m \u001b[1;32mfor\u001b[0m \u001b[0mq\u001b[0m \u001b[1;32min\u001b[0m \u001b[0mlist1\u001b[0m\u001b[1;33m:\u001b[0m\u001b[1;33m\u001b[0m\u001b[0m\n\u001b[0;32m----> 8\u001b[0;31m     \u001b[1;32mprint\u001b[0m \u001b[1;34m''\u001b[0m\u001b[1;33m.\u001b[0m\u001b[0mq\u001b[0m\u001b[1;33m.\u001b[0m\u001b[0msplit\u001b[0m\u001b[1;33m(\u001b[0m\u001b[1;34m'a'\u001b[0m\u001b[1;33m)\u001b[0m\u001b[1;33m\u001b[0m\u001b[0m\n\u001b[0m\u001b[1;32m      9\u001b[0m     \u001b[1;32mprint\u001b[0m \u001b[0mlist2\u001b[0m\u001b[1;33m.\u001b[0m\u001b[0mappend\u001b[0m\u001b[1;33m(\u001b[0m\u001b[0mq\u001b[0m\u001b[1;33m.\u001b[0m\u001b[0msplit\u001b[0m\u001b[1;33m(\u001b[0m\u001b[1;34m'a'\u001b[0m\u001b[1;33m)\u001b[0m\u001b[1;33m)\u001b[0m\u001b[1;33m\u001b[0m\u001b[0m\n",
      "\u001b[0;31mAttributeError\u001b[0m: 'str' object has no attribute 'q'"
     ]
    }
   ],
   "source": [
    "nucl = {'A':'A', 'T':'T','G':'G', 'C':'C',\n",
    "       'W':'[ATW]', 'S':'[CGS]', 'M':'[ACM]',\n",
    "       'K':'[GTK]', 'R':'[AGR]', 'Y':'[CTY]',\n",
    "       'B':'[CGTB]', 'D':'[AGTD]', 'H':'[ATHC]', 'V':'[ACGV]',\n",
    "       'N':'[ATGCN]'}\n",
    "\n",
    "f_w = open('regular_enz.txt','w')\n",
    "with open('restriction.txt','r') as f:\n",
    "    for line in f:\n",
    "        if len(line.strip()) == 0:\n",
    "            continue\n",
    "        if line.startswith('('):\n",
    "            cutsite = line.strip()\n",
    "            for a in cutsite:\n",
    "                if a in nucl:\n",
    "                    enz += nucl[a]\n",
    "                else: enz += a\n",
    "            enz += '\\n'\n",
    "            print enz\n",
    "            f_w.write(enz)\n",
    "        else: \n",
    "            enz = line.strip()+ '\\n'"
   ]
  }
 ],
 "metadata": {
  "kernelspec": {
   "display_name": "Python 2",
   "language": "python",
   "name": "python2"
  },
  "language_info": {
   "codemirror_mode": {
    "name": "ipython",
    "version": 2
   },
   "file_extension": ".py",
   "mimetype": "text/x-python",
   "name": "python",
   "nbconvert_exporter": "python",
   "pygments_lexer": "ipython2",
   "version": "2.7.13"
  }
 },
 "nbformat": 4,
 "nbformat_minor": 2
}
