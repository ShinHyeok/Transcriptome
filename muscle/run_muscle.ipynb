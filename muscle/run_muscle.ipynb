{
 "cells": [
  {
   "cell_type": "code",
   "execution_count": 7,
   "metadata": {
    "collapsed": false
   },
   "outputs": [],
   "source": [
    "import os\n",
    "\n",
    "chi_dir = 'proteome/chicken/'\n",
    "hum_dir = 'proteome/human/'\n",
    "tro_dir = 'proteome/trop/'\n",
    "mus_dir = 'proteome/mus/'\n",
    "my_dir = 'proteome/my/'\n",
    "\n",
    "def make_file_list(input_dir):\n",
    "    file_list = []\n",
    "    input_file_list = os.listdir(input_dir)\n",
    "    for input_file in input_file_list:\n",
    "        file_list.append(input_file)\n",
    "    return file_list\n",
    "\n",
    "chi_list = make_file_list(chi_dir)\n",
    "hum_list = make_file_list(hum_dir)\n",
    "tro_list = make_file_list(tro_dir)\n",
    "mus_list = make_file_list(mus_dir)\n",
    "my_list = make_file_list(my_dir)\n",
    "\n",
    "try:\n",
    "    os.makedirs('muscled_chi')\n",
    "    os.makedirs('muscled_hum')\n",
    "    os.makedirs('muscled_tro')\n",
    "    os.makedirs('muscled_mus')\n",
    "    os.makedirs('muscled_my')\n",
    "except:pass\n",
    "\n",
    "def run_muscle(listname,indir,outdir):\n",
    "    for input_file in listname:\n",
    "        input_path = indir + input_file\n",
    "        output_path = input_file\n",
    "        os.system(\"muscle/muscle3.8.31_i86linux64 -in {} -out {}\".format(input_path, output_path))\n",
    "        os.system(\"mv {} {}\".format(output_path,outdir))\n",
    "        #print(\"mv {} {}\".format(output_path,outdir))\n",
    "        #print(\"muscle/muscle -input {} -output {}\".format(input_path, output_path)) # WARNING : PRINT IT FIRST\n",
    "\n",
    "\n",
    "run_muscle(chi_list,chi_dir,'muscled_chi/')\n",
    "run_muscle(hum_list,hum_dir,'muscled_hum/')\n",
    "run_muscle(tro_list,tro_dir,'muscled_tro/')\n",
    "run_muscle(mus_list,mus_dir,'muscled_mus/')\n",
    "run_muscle(my_list,my_dir,'muscled_my/')"
   ]
  },
  {
   "cell_type": "code",
   "execution_count": null,
   "metadata": {
    "collapsed": true
   },
   "outputs": [],
   "source": []
  }
 ],
 "metadata": {
  "kernelspec": {
   "display_name": "Python 2",
   "language": "python",
   "name": "python2"
  },
  "language_info": {
   "codemirror_mode": {
    "name": "ipython",
    "version": 2
   },
   "file_extension": ".py",
   "mimetype": "text/x-python",
   "name": "python",
   "nbconvert_exporter": "python",
   "pygments_lexer": "ipython2",
   "version": "2.7.12"
  }
 },
 "nbformat": 4,
 "nbformat_minor": 2
}
