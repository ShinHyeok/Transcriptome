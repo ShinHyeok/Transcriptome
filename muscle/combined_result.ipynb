{
 "cells": [
  {
   "cell_type": "code",
   "execution_count": 5,
   "metadata": {
    "collapsed": false
   },
   "outputs": [],
   "source": [
    "import os\n",
    "\n",
    "my_dir = 'muscle_dbrm/'\n",
    "utr_dir = 'utr/'\n",
    "def make_file_list(input_dir):\n",
    "    file_list = []\n",
    "    input_file_list = os.listdir(input_dir)\n",
    "    for input_file in input_file_list:\n",
    "        file_list.append(input_file)\n",
    "    return file_list\n",
    "\n",
    "my_list = make_file_list(my_dir)\n",
    "utr_list = make_file_list(utr_dir)\n",
    "\n",
    "f_combined1 = open('MODcombined_with_utr.fa','w')\n",
    "f_combined2 = open('MODcombined_without_utr.fa','w')\n",
    "\n",
    "for infile in my_list:\n",
    "    with open(my_dir+infile,'r') as f:\n",
    "        if not infile in utr_list:\n",
    "            for line in f:\n",
    "                f_combined1.write(line)\n",
    "                f_combined2.write(line)\n",
    "        else:\n",
    "            for line in f:\n",
    "                f_combined1.write(line)\n",
    "f_combined1.close()\n",
    "f_combined2.close()"
   ]
  }
 ],
 "metadata": {
  "kernelspec": {
   "display_name": "Python 2",
   "language": "python",
   "name": "python2"
  },
  "language_info": {
   "codemirror_mode": {
    "name": "ipython",
    "version": 2
   },
   "file_extension": ".py",
   "mimetype": "text/x-python",
   "name": "python",
   "nbconvert_exporter": "python",
   "pygments_lexer": "ipython2",
   "version": "2.7.12"
  }
 },
 "nbformat": 4,
 "nbformat_minor": 2
}
