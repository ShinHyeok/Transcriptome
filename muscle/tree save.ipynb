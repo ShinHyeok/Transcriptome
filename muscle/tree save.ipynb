{
 "cells": [
  {
   "cell_type": "code",
   "execution_count": 1,
   "metadata": {
    "collapsed": false
   },
   "outputs": [],
   "source": [
    "\n",
    "import os \n",
    "\n",
    "my_dir = 'muscle_dbrm/'\n",
    "\n",
    "try:\n",
    "    os.makedirs('phy_from_db/')\n",
    "    os.makedirs('tree_db/')\n",
    "except:pass\n",
    "\n",
    "def make_file_list(input_dir):\n",
    "    file_list = []\n",
    "    input_file_list = os.listdir(input_dir)\n",
    "    for input_file in input_file_list:\n",
    "        file_list.append(input_file)\n",
    "    return file_list\n",
    "my_list = make_file_list(my_dir)\n",
    "\n",
    "\n",
    "def run_muscle2(my_dir,listname):\n",
    "    for input_file in listname:\n",
    "        my_file = my_dir+ input_file\n",
    "        outfile = input_file[:-3]\n",
    "        os.system(\"muscle/muscle3.8.31_i86linux64 -maketree -in {} -out phy_from_db/{}.phy\".format(my_file,outfile))\n",
    "        #print (\"muscle/muscle3.8.31_i86linux64 -maketree -in {} -out phy_files/{}\".format(my_file,outfile))\n",
    "run_muscle2(my_dir,my_list)\n",
    "\n",
    "from ete3 import Tree,TreeStyle,TextFace\n",
    "\n",
    "phy_list = make_file_list('phy_from_db/')\n",
    "\n",
    "for input_file2 in phy_list:\n",
    "    t = Tree('phy_from_db/{}'.format(input_file2))\n",
    "    for node in t.traverse():\n",
    "        node.img_style['size'] = 3\n",
    "        if node.is_leaf():\n",
    "            name_face = TextFace(node.name)\n",
    "    ts = TreeStyle()\n",
    "    ts.show_scale = True\n",
    "    t.render('tree_db/{}.bmp'.format(input_file2))"
   ]
  },
  {
   "cell_type": "code",
   "execution_count": null,
   "metadata": {
    "collapsed": true
   },
   "outputs": [],
   "source": []
  }
 ],
 "metadata": {
  "kernelspec": {
   "display_name": "Python 2",
   "language": "python",
   "name": "python2"
  },
  "language_info": {
   "codemirror_mode": {
    "name": "ipython",
    "version": 2
   },
   "file_extension": ".py",
   "mimetype": "text/x-python",
   "name": "python",
   "nbconvert_exporter": "python",
   "pygments_lexer": "ipython2",
   "version": "2.7.12"
  }
 },
 "nbformat": 4,
 "nbformat_minor": 2
}
