{
 "cells": [
  {
   "cell_type": "code",
   "execution_count": 30,
   "metadata": {
    "collapsed": false
   },
   "outputs": [],
   "source": [
    "import os\n",
    "\n",
    "chi_dir = 'muscled_chi/'\n",
    "hum_dir = 'muscled_hum/'\n",
    "tro_dir = 'muscled_tro/'\n",
    "mus_dir = 'muscled_mus/'\n",
    "my_dir = 'muscled_my/'\n",
    "\n",
    "try:\n",
    "    os.makedirs('muscle_out1/')\n",
    "    os.makedirs('muscle_out2/')\n",
    "    os.makedirs('muscle_out3/')\n",
    "    os.makedirs('muscle_out4/')\n",
    "except:pass\n",
    "\n",
    "def make_file_list(input_dir):\n",
    "    file_list = []\n",
    "    input_file_list = os.listdir(input_dir)\n",
    "    for input_file in input_file_list:\n",
    "        file_list.append(input_file)\n",
    "    return file_list\n",
    "chi_list = make_file_list(chi_dir)\n",
    "hum_list = make_file_list(hum_dir)\n",
    "tro_list = make_file_list(tro_dir)\n",
    "mus_list = make_file_list(mus_dir)\n",
    "my_list = make_file_list(my_dir)\n",
    "\n",
    "running_list = []\n",
    "for gene in chi_list:\n",
    "    if (gene in hum_list) and (gene in tro_list) and (gene in mus_list) and (gene in my_list):\n",
    "        running_list.append(gene)\n",
    "def run_muscle2(listname):\n",
    "    for input_file in listname:\n",
    "        chi_file = 'muscled_chi/'+ input_file\n",
    "        hum_file = 'muscled_hum/'+ input_file\n",
    "        tro_file = 'muscled_tro/'+ input_file\n",
    "        mus_file = 'muscled_mus/'+ input_file\n",
    "        my_file = 'muscled_my/'+ input_file\n",
    "        os.system(\"muscle/muscle3.8.31_i86linux64 -profile -in1 {} -in2 {} -out muscle_out1/{}\".format(chi_file,hum_file,input_file))\n",
    "        os.system(\"muscle/muscle3.8.31_i86linux64 -profile -in1 muscle_out1/{} -in2 {} -out muscle_out2/{}\".format(input_file,tro_file,input_file))\n",
    "        os.system(\"muscle/muscle3.8.31_i86linux64 -profile -in1 muscle_out2/{} -in2 {} -out muscle_out3/{}\".format(input_file,mus_file,input_file))\n",
    "        os.system(\"muscle/muscle3.8.31_i86linux64 -profile -in1 muscle_out3/{} -in2 {} -out muscle_out4/{}\".format(input_file,my_file,input_file))\n",
    "        #print (\"muscle/muscle3.8.31_i86linux64 -profile -in1 {} -in2 {} -out muscle_out1/{}\".format(chi_file,hum_file,input_file))\n",
    "\n",
    "\n",
    "run_muscle2(running_list)\n"
   ]
  },
  {
   "cell_type": "code",
   "execution_count": null,
   "metadata": {
    "collapsed": true
   },
   "outputs": [],
   "source": []
  }
 ],
 "metadata": {
  "kernelspec": {
   "display_name": "Python 2",
   "language": "python",
   "name": "python2"
  },
  "language_info": {
   "codemirror_mode": {
    "name": "ipython",
    "version": 2
   },
   "file_extension": ".py",
   "mimetype": "text/x-python",
   "name": "python",
   "nbconvert_exporter": "python",
   "pygments_lexer": "ipython2",
   "version": "2.7.12"
  }
 },
 "nbformat": 4,
 "nbformat_minor": 2
}
